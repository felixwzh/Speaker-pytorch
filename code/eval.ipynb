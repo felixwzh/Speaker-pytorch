{
 "cells": [
  {
   "cell_type": "markdown",
   "metadata": {},
   "source": [
    "# evaluate results"
   ]
  },
  {
   "cell_type": "code",
   "execution_count": 1,
   "metadata": {},
   "outputs": [],
   "source": [
    "import sacrebleu"
   ]
  },
  {
   "cell_type": "code",
   "execution_count": 50,
   "metadata": {},
   "outputs": [],
   "source": [
    "def read_tgt_data(file):\n",
    "    tgts=[]\n",
    "    with open(file,'r') as fin:\n",
    "        lines=fin.readlines()\n",
    "        for line in lines:\n",
    "            src,tgt=line.strip().split('￨')\n",
    "            tgt_=tgt.split(' ')[1:]\n",
    "            tgt=''\n",
    "            for word in tgt_:\n",
    "                tgt+=word\n",
    "                tgt+=' '\n",
    "            tgts.append(tgt[:-1])\n",
    "    return tgts\n",
    "def cal_bleu(ref_file,output_file):\n",
    "    refs=read_tgt_data(file=ref_file)\n",
    "    outputs=read_tgt_data(file=output_file)\n",
    "    # TODO: figure out what is ref and what is hypothethis.\n",
    "    bleu = sacrebleu.corpus_bleu(outputs, [refs],force=True)\n",
    "    return bleu.score"
   ]
  },
  {
   "cell_type": "code",
   "execution_count": 51,
   "metadata": {},
   "outputs": [
    {
     "data": {
      "text/plain": [
       "1.9998276939151607"
      ]
     },
     "execution_count": 51,
     "metadata": {},
     "output_type": "execute_result"
    }
   ],
   "source": [
    "ref_file='../data/src_data_full_feat_tf_resplited_review/test_ref.txt'\n",
    "output_file='../outputs/test.txt_Speaker_output.txt'\n",
    "cal_bleu(ref_file,output_file)"
   ]
  },
  {
   "cell_type": "code",
   "execution_count": 52,
   "metadata": {},
   "outputs": [
    {
     "data": {
      "text/plain": [
       "1.1920700187852555"
      ]
     },
     "execution_count": 52,
     "metadata": {},
     "output_type": "execute_result"
    }
   ],
   "source": [
    "ref_file='../data/src_data_full_feat_tf_resplited_review/test_ref.txt'\n",
    "output_file='../outputs/test.txt_Speaker_SpeakerID1A1'\n",
    "cal_bleu(ref_file,output_file)"
   ]
  },
  {
   "cell_type": "code",
   "execution_count": 59,
   "metadata": {},
   "outputs": [
    {
     "name": "stdout",
     "output_type": "stream",
     "text": [
      "1.5927668030100035\n",
      "1.6790894260006655\n"
     ]
    }
   ],
   "source": [
    "\n",
    "ref_file='../data/src_data_full_feat_tf_resplited_review_50k/test_ref.txt'\n",
    "output_file='../../Speaker-pytorch/outputs/s_rand/test.txt_Speaker_s_rand_dim_30_lstm_512_layer_2_debug.txt'\n",
    "print(cal_bleu(ref_file,output_file))\n",
    "ref_file='../data/src_data_full_feat_tf_resplited_review_50k/test_full_ref.txt'\n",
    "output_file='../../Speaker-pytorch/outputs/s_rand/test_full.txt_Speaker_s_rand_dim_30_lstm_512_layer_2_debug.txt'\n",
    "print(cal_bleu(ref_file,output_file))\n"
   ]
  },
  {
   "cell_type": "code",
   "execution_count": 57,
   "metadata": {},
   "outputs": [
    {
     "name": "stdout",
     "output_type": "stream",
     "text": [
      "1.8152765508599937\n",
      "1.7851514033781546\n"
     ]
    }
   ],
   "source": [
    "\n",
    "ref_file='../data/src_data_full_feat_tf_resplited_review_50k/test_ref.txt'\n",
    "output_file='../../Speaker-pytorch/outputs/s_tf/test.txt_Speaker_s_tf_dim_30_lstm_512_layer_2.txt'\n",
    "print(cal_bleu(ref_file,output_file))\n",
    "\n",
    "ref_file='../data/src_data_full_feat_tf_resplited_review_50k/test_full_ref.txt'\n",
    "output_file='../../Speaker-pytorch/outputs/s_tf/test_full.txt_Speaker_s_tf_dim_30_lstm_512_layer_2.txt'\n",
    "print(cal_bleu(ref_file,output_file))"
   ]
  },
  {
   "cell_type": "code",
   "execution_count": 81,
   "metadata": {},
   "outputs": [
    {
     "name": "stdout",
     "output_type": "stream",
     "text": [
      "1.95320686187781\n",
      "1.9340198509861497\n"
     ]
    }
   ],
   "source": [
    "\n",
    "ref_file='../data/src_data_full_feat_tf_resplited_review_50k/test_ref.txt'\n",
    "output_file='../../Speaker-pytorch/outputs/s_rand/test.txt_Speaker_s_rand_dim_30_lstm_512_layer_2_debug.txt'\n",
    "print(cal_bleu(ref_file,output_file))\n",
    "ref_file='../data/src_data_full_feat_tf_resplited_review_50k/test_full_ref.txt'\n",
    "output_file='../../Speaker-pytorch/outputs/s_rand/test_full.txt_Speaker_s_rand_dim_30_lstm_512_layer_2_debug.txt'\n",
    "print(cal_bleu(ref_file,output_file))\n"
   ]
  },
  {
   "cell_type": "code",
   "execution_count": 82,
   "metadata": {},
   "outputs": [
    {
     "name": "stdout",
     "output_type": "stream",
     "text": [
      "1.62664580214887\n",
      "1.7423504710075393\n"
     ]
    }
   ],
   "source": [
    "\n",
    "ref_file='../data/src_data_full_feat_tf_resplited_review_50k/test_ref.txt'\n",
    "output_file='../../Speaker-pytorch/outputs/s_tf/test.txt_Speaker_s_tf_dim_30_lstm_512_layer_2.txt'\n",
    "print(cal_bleu(ref_file,output_file))\n",
    "\n",
    "ref_file='../data/src_data_full_feat_tf_resplited_review_50k/test_full_ref.txt'\n",
    "output_file='../../Speaker-pytorch/outputs/s_tf/test_full.txt_Speaker_s_tf_dim_30_lstm_512_layer_2.txt'\n",
    "print(cal_bleu(ref_file,output_file))"
   ]
  },
  {
   "cell_type": "code",
   "execution_count": 83,
   "metadata": {},
   "outputs": [
    {
     "name": "stdout",
     "output_type": "stream",
     "text": [
      "1.4911906936514048\n",
      "1.748999646624483\n"
     ]
    }
   ],
   "source": [
    "\n",
    "ref_file='../data/src_data_full_feat_tf_resplited_review_50k/val_ref.txt'\n",
    "output_file='../../Speaker-pytorch/outputs/s_rand/valid.txt_Speaker_s_rand_dim_30_lstm_512_layer_2_debug.txt'\n",
    "print(cal_bleu(ref_file,output_file))\n",
    "ref_file='../data/src_data_full_feat_tf_resplited_review_50k/val_full_ref.txt'\n",
    "output_file='../../Speaker-pytorch/outputs/s_rand/valid_full.txt_Speaker_s_rand_dim_30_lstm_512_layer_2_debug.txt'\n",
    "print(cal_bleu(ref_file,output_file))\n"
   ]
  },
  {
   "cell_type": "code",
   "execution_count": 84,
   "metadata": {},
   "outputs": [
    {
     "name": "stdout",
     "output_type": "stream",
     "text": [
      "1.5309847050615122\n",
      "1.6886922889916611\n"
     ]
    }
   ],
   "source": [
    "\n",
    "ref_file='../data/src_data_full_feat_tf_resplited_review_50k/val_ref.txt'\n",
    "output_file='../../Speaker-pytorch/outputs/s_tf/valid.txt_Speaker_s_tf_dim_30_lstm_512_layer_2.txt'\n",
    "print(cal_bleu(ref_file,output_file))\n",
    "\n",
    "ref_file='../data/src_data_full_feat_tf_resplited_review_50k/val_full_ref.txt'\n",
    "output_file='../../Speaker-pytorch/outputs/s_tf/valid_full.txt_Speaker_s_tf_dim_30_lstm_512_layer_2.txt'\n",
    "print(cal_bleu(ref_file,output_file))"
   ]
  },
  {
   "cell_type": "code",
   "execution_count": null,
   "metadata": {},
   "outputs": [],
   "source": []
  }
 ],
 "metadata": {
  "kernelspec": {
   "display_name": "Python 3",
   "language": "python",
   "name": "python3"
  },
  "language_info": {
   "codemirror_mode": {
    "name": "ipython",
    "version": 3
   },
   "file_extension": ".py",
   "mimetype": "text/x-python",
   "name": "python",
   "nbconvert_exporter": "python",
   "pygments_lexer": "ipython3",
   "version": "3.7.4"
  }
 },
 "nbformat": 4,
 "nbformat_minor": 4
}
